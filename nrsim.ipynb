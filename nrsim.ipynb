{
 "cells": [
  {
   "cell_type": "code",
   "execution_count": null,
   "metadata": {
    "collapsed": true,
    "scrolled": true
   },
   "outputs": [],
   "source": [
    "from pyspark.sql import SQLContext\n",
    "#object storage container to read data from\n",
    "container = \"nrsim\"\n",
    "#an arbitrary logical name for the dataframe\n",
    "tableName = \"nrsim\"\n",
    "#start date for query\n",
    "iDate = \"2017-01-10\"\n",
    "#end date for query\n",
    "fDate = \"2017-01-10\"\n",
    "#parent object name e.g. for \"ttt/dt=2017-....\" it should be \"ttt\"\n",
    "objName = \"ttt\"\n",
    "\n",
    "sqlContext = SQLContext(sc)\n",
    "df = sqlContext.read.json(\"swift://\" + container + \".spark/\" + objName) \n",
    "df.registerTempTable(tableName)"
   ]
  },
  {
   "cell_type": "code",
   "execution_count": null,
   "metadata": {
    "collapsed": false,
    "scrolled": false
   },
   "outputs": [],
   "source": [
    "import datetime\n",
    "def runQuery(sqlQuery): # returned a list of the requested rows\n",
    "    return sqlContext.sql(sqlQuery).collect()\n",
    "\n",
    "def getXY(x_attr,y_attr,sDate,fDate):\n",
    "    d = runQuery(\"SELECT \" + str(x_attr) + \",\" + str(y_attr) + \" FROM \" + str(tableName) + \" WHERE dt BETWEEN '\" + \\\n",
    "                 str(sDate) + \"' AND '\" + str(fDate) + \"'\")\n",
    "    xx = []\n",
    "    yy = []\n",
    "    for row in d:\n",
    "        xx.append(datetime.datetime.strptime(getattr(row,x_attr).encode('ascii','ignore'),\"%Y-%m-%dT%H:%M:%S\"))\n",
    "        yy.append(int(getattr(row,\"velocity\")))\n",
    "    return xx,yy\n",
    "\n",
    "x,y = getXY(\"timestamp\",\"payload.velocity\",iDate,fDate)\n",
    "assert(len(x) == len(y))\n",
    "print x,y"
   ]
  },
  {
   "cell_type": "code",
   "execution_count": null,
   "metadata": {
    "collapsed": false,
    "scrolled": true
   },
   "outputs": [],
   "source": [
    "%matplotlib inline\n",
    "import matplotlib.pyplot as plt\n",
    "plt.plot(x,y)\n",
    "plt.xlabel('time')\n",
    "plt.ylabel('velocity')\n",
    "plt.title('Velocity')\n",
    "# beautify the x-labels\n",
    "plt.gcf().autofmt_xdate()\n",
    "plt.show()"
   ]
  },
  {
   "cell_type": "code",
   "execution_count": null,
   "metadata": {
    "collapsed": true,
    "scrolled": true
   },
   "outputs": [],
   "source": []
  }
 ],
 "metadata": {
  "kernelspec": {
   "display_name": "Python 2 with Spark 1.6",
   "language": "python",
   "name": "python2"
  },
  "language_info": {
   "codemirror_mode": {
    "name": "ipython",
    "version": 2
   },
   "file_extension": ".py",
   "mimetype": "text/x-python",
   "name": "python",
   "nbconvert_exporter": "python",
   "pygments_lexer": "ipython2",
   "version": "2.7.11"
  }
 },
 "nbformat": 4,
 "nbformat_minor": 0
}